{
 "cells": [
  {
   "cell_type": "markdown",
   "id": "af304d9f",
   "metadata": {},
   "source": [
    "# Рубежный контроль по дисциплине \"Методы машинного обучения\" №1.\n",
    "## Выполнил: Громоздов Д.Р.; группа ИУ5-23М\n",
    "### Вариант 5"
   ]
  },
  {
   "cell_type": "code",
   "execution_count": 1,
   "id": "d09680f9",
   "metadata": {},
   "outputs": [],
   "source": [
    "#импортируем все необходимык для выполнения РК библиотеки:\n",
    "import numpy as np\n",
    "import pandas as pd\n",
    "import seaborn as sns\n",
    "import matplotlib.pyplot as plt\n",
    "import scipy.stats as stats\n",
    "%matplotlib inline\n",
    "from sklearn.preprocessing import OneHotEncoder\n",
    "from category_encoders.one_hot import OneHotEncoder as ce_OneHotEncoder"
   ]
  },
  {
   "cell_type": "markdown",
   "id": "907b5209",
   "metadata": {},
   "source": [
    "## Задача 1(№5 в списке условий). Для набора данных проведите кодирование одного (произвольного) категориального признака с использованием метода \"one-hot encoding\"."
   ]
  },
  {
   "cell_type": "markdown",
   "id": "7c0d13de",
   "metadata": {},
   "source": [
    "Для первой задачи используем датасет, содержащий информацию о статьях в нидерландских журналах."
   ]
  },
  {
   "cell_type": "code",
   "execution_count": 2,
   "id": "4c7da537",
   "metadata": {},
   "outputs": [],
   "source": [
    "data = pd.read_csv('datasets/dutch-news-articles.csv', sep=\",\")"
   ]
  },
  {
   "cell_type": "code",
   "execution_count": 3,
   "id": "ded248d6",
   "metadata": {},
   "outputs": [
    {
     "data": {
      "text/plain": [
       "(238099, 5)"
      ]
     },
     "execution_count": 3,
     "metadata": {},
     "output_type": "execute_result"
    }
   ],
   "source": [
    "data.shape"
   ]
  },
  {
   "cell_type": "code",
   "execution_count": 4,
   "id": "0a7f4fac",
   "metadata": {},
   "outputs": [
    {
     "data": {
      "text/html": [
       "<div>\n",
       "<style scoped>\n",
       "    .dataframe tbody tr th:only-of-type {\n",
       "        vertical-align: middle;\n",
       "    }\n",
       "\n",
       "    .dataframe tbody tr th {\n",
       "        vertical-align: top;\n",
       "    }\n",
       "\n",
       "    .dataframe thead th {\n",
       "        text-align: right;\n",
       "    }\n",
       "</style>\n",
       "<table border=\"1\" class=\"dataframe\">\n",
       "  <thead>\n",
       "    <tr style=\"text-align: right;\">\n",
       "      <th></th>\n",
       "      <th>datetime</th>\n",
       "      <th>title</th>\n",
       "      <th>content</th>\n",
       "      <th>category</th>\n",
       "      <th>url</th>\n",
       "    </tr>\n",
       "  </thead>\n",
       "  <tbody>\n",
       "    <tr>\n",
       "      <th>0</th>\n",
       "      <td>2010-01-01 00:49:00</td>\n",
       "      <td>Enige Litouwse kerncentrale dicht</td>\n",
       "      <td>De enige kerncentrale van Litouwen is oudjaars...</td>\n",
       "      <td>Buitenland</td>\n",
       "      <td>https://nos.nl/artikel/126231-enige-litouwse-k...</td>\n",
       "    </tr>\n",
       "    <tr>\n",
       "      <th>1</th>\n",
       "      <td>2010-01-01 02:08:00</td>\n",
       "      <td>Spanje eerste EU-voorzitter onder nieuw verdrag</td>\n",
       "      <td>Spanje is met ingang van vandaag voorzitter va...</td>\n",
       "      <td>Buitenland</td>\n",
       "      <td>https://nos.nl/artikel/126230-spanje-eerste-eu...</td>\n",
       "    </tr>\n",
       "    <tr>\n",
       "      <th>2</th>\n",
       "      <td>2010-01-01 02:09:00</td>\n",
       "      <td>Fout justitie in Blackwater-zaak</td>\n",
       "      <td>Vijf werknemers van het omstreden Amerikaanse ...</td>\n",
       "      <td>Buitenland</td>\n",
       "      <td>https://nos.nl/artikel/126233-fout-justitie-in...</td>\n",
       "    </tr>\n",
       "    <tr>\n",
       "      <th>3</th>\n",
       "      <td>2010-01-01 05:14:00</td>\n",
       "      <td>Museumplein vol, minder druk in Rotterdam</td>\n",
       "      <td>Het Oud en Nieuwfeest op het Museumplein in Am...</td>\n",
       "      <td>Binnenland</td>\n",
       "      <td>https://nos.nl/artikel/126232-museumplein-vol-...</td>\n",
       "    </tr>\n",
       "    <tr>\n",
       "      <th>4</th>\n",
       "      <td>2010-01-01 05:30:00</td>\n",
       "      <td>Obama krijgt rapporten over aanslag</td>\n",
       "      <td>President Obama heeft de eerste rapporten gekr...</td>\n",
       "      <td>Buitenland</td>\n",
       "      <td>https://nos.nl/artikel/126236-obama-krijgt-rap...</td>\n",
       "    </tr>\n",
       "  </tbody>\n",
       "</table>\n",
       "</div>"
      ],
      "text/plain": [
       "              datetime                                            title  \\\n",
       "0  2010-01-01 00:49:00                Enige Litouwse kerncentrale dicht   \n",
       "1  2010-01-01 02:08:00  Spanje eerste EU-voorzitter onder nieuw verdrag   \n",
       "2  2010-01-01 02:09:00                 Fout justitie in Blackwater-zaak   \n",
       "3  2010-01-01 05:14:00        Museumplein vol, minder druk in Rotterdam   \n",
       "4  2010-01-01 05:30:00              Obama krijgt rapporten over aanslag   \n",
       "\n",
       "                                             content    category  \\\n",
       "0  De enige kerncentrale van Litouwen is oudjaars...  Buitenland   \n",
       "1  Spanje is met ingang van vandaag voorzitter va...  Buitenland   \n",
       "2  Vijf werknemers van het omstreden Amerikaanse ...  Buitenland   \n",
       "3  Het Oud en Nieuwfeest op het Museumplein in Am...  Binnenland   \n",
       "4  President Obama heeft de eerste rapporten gekr...  Buitenland   \n",
       "\n",
       "                                                 url  \n",
       "0  https://nos.nl/artikel/126231-enige-litouwse-k...  \n",
       "1  https://nos.nl/artikel/126230-spanje-eerste-eu...  \n",
       "2  https://nos.nl/artikel/126233-fout-justitie-in...  \n",
       "3  https://nos.nl/artikel/126232-museumplein-vol-...  \n",
       "4  https://nos.nl/artikel/126236-obama-krijgt-rap...  "
      ]
     },
     "execution_count": 4,
     "metadata": {},
     "output_type": "execute_result"
    }
   ],
   "source": [
    "data.head() #просмотрим, какие данные о журналистских статьях содержатся в данном датасете"
   ]
  },
  {
   "cell_type": "code",
   "execution_count": 5,
   "id": "950081f9",
   "metadata": {},
   "outputs": [
    {
     "data": {
      "text/plain": [
       "[('datetime', ('object', 0)),\n",
       " ('title', ('object', 0)),\n",
       " ('content', ('object', 0)),\n",
       " ('category', ('object', 0)),\n",
       " ('url', ('object', 0))]"
      ]
     },
     "execution_count": 5,
     "metadata": {},
     "output_type": "execute_result"
    }
   ],
   "source": [
    "data_features = list(zip(\n",
    "# признаки\n",
    "[i for i in data.columns],\n",
    "zip(\n",
    "    # типы колонок\n",
    "    [str(i) for i in data.dtypes],\n",
    "    # проверим есть ли пропущенные значения\n",
    "    [i for i in data.isnull().sum()]\n",
    ")))\n",
    "# Признаки с типом данных и количеством пропусков\n",
    "data_features"
   ]
  },
  {
   "cell_type": "markdown",
   "id": "9f376739",
   "metadata": {},
   "source": [
    "Нам попался хороший (для выполнения данного задания) датасет, не содержащий пропусков. Датасет достаточно объёмный, поэтому исключим из датасета несколько колонок для ускорения обработки запросов.\n",
    "Колонки, содержащие длинные url-ссылки и полное содержимое статей, в данном задании нам не особо интересны, оставим только колонки с датой, заголовком и категорией статьи, которую и будем кодировать. "
   ]
  },
  {
   "cell_type": "code",
   "execution_count": 6,
   "id": "71f8b196",
   "metadata": {},
   "outputs": [
    {
     "data": {
      "text/html": [
       "<div>\n",
       "<style scoped>\n",
       "    .dataframe tbody tr th:only-of-type {\n",
       "        vertical-align: middle;\n",
       "    }\n",
       "\n",
       "    .dataframe tbody tr th {\n",
       "        vertical-align: top;\n",
       "    }\n",
       "\n",
       "    .dataframe thead th {\n",
       "        text-align: right;\n",
       "    }\n",
       "</style>\n",
       "<table border=\"1\" class=\"dataframe\">\n",
       "  <thead>\n",
       "    <tr style=\"text-align: right;\">\n",
       "      <th></th>\n",
       "      <th>datetime</th>\n",
       "      <th>title</th>\n",
       "      <th>category</th>\n",
       "    </tr>\n",
       "  </thead>\n",
       "  <tbody>\n",
       "    <tr>\n",
       "      <th>0</th>\n",
       "      <td>2010-01-01 00:49:00</td>\n",
       "      <td>Enige Litouwse kerncentrale dicht</td>\n",
       "      <td>Buitenland</td>\n",
       "    </tr>\n",
       "    <tr>\n",
       "      <th>1</th>\n",
       "      <td>2010-01-01 02:08:00</td>\n",
       "      <td>Spanje eerste EU-voorzitter onder nieuw verdrag</td>\n",
       "      <td>Buitenland</td>\n",
       "    </tr>\n",
       "    <tr>\n",
       "      <th>2</th>\n",
       "      <td>2010-01-01 02:09:00</td>\n",
       "      <td>Fout justitie in Blackwater-zaak</td>\n",
       "      <td>Buitenland</td>\n",
       "    </tr>\n",
       "    <tr>\n",
       "      <th>3</th>\n",
       "      <td>2010-01-01 05:14:00</td>\n",
       "      <td>Museumplein vol, minder druk in Rotterdam</td>\n",
       "      <td>Binnenland</td>\n",
       "    </tr>\n",
       "    <tr>\n",
       "      <th>4</th>\n",
       "      <td>2010-01-01 05:30:00</td>\n",
       "      <td>Obama krijgt rapporten over aanslag</td>\n",
       "      <td>Buitenland</td>\n",
       "    </tr>\n",
       "  </tbody>\n",
       "</table>\n",
       "</div>"
      ],
      "text/plain": [
       "              datetime                                            title  \\\n",
       "0  2010-01-01 00:49:00                Enige Litouwse kerncentrale dicht   \n",
       "1  2010-01-01 02:08:00  Spanje eerste EU-voorzitter onder nieuw verdrag   \n",
       "2  2010-01-01 02:09:00                 Fout justitie in Blackwater-zaak   \n",
       "3  2010-01-01 05:14:00        Museumplein vol, minder druk in Rotterdam   \n",
       "4  2010-01-01 05:30:00              Obama krijgt rapporten over aanslag   \n",
       "\n",
       "     category  \n",
       "0  Buitenland  \n",
       "1  Buitenland  \n",
       "2  Buitenland  \n",
       "3  Binnenland  \n",
       "4  Buitenland  "
      ]
     },
     "execution_count": 6,
     "metadata": {},
     "output_type": "execute_result"
    }
   ],
   "source": [
    "cols_filter = ['datetime', 'title', 'category']\n",
    "data_categorize = data[cols_filter]\n",
    "data_categorize.head()"
   ]
  },
  {
   "cell_type": "markdown",
   "id": "711859b5",
   "metadata": {},
   "source": [
    "Задачу кодирования можно решить с использованием разных библиотек. Рассмотрим варианты sklearn, pandas (get_dummies) и category_encoders"
   ]
  },
  {
   "cell_type": "markdown",
   "id": "94390676",
   "metadata": {},
   "source": [
    "### Библиотека sklearn."
   ]
  },
  {
   "cell_type": "code",
   "execution_count": 7,
   "id": "de96dee6",
   "metadata": {},
   "outputs": [
    {
     "data": {
      "text/plain": [
       "<238099x9 sparse matrix of type '<class 'numpy.float64'>'\n",
       "\twith 238099 stored elements in Compressed Sparse Row format>"
      ]
     },
     "execution_count": 7,
     "metadata": {},
     "output_type": "execute_result"
    }
   ],
   "source": [
    "#using sklearn library\n",
    "ohe = OneHotEncoder()\n",
    "category_encoded = ohe.fit_transform(data_categorize[['category']])\n",
    "category_encoded"
   ]
  },
  {
   "cell_type": "code",
   "execution_count": 8,
   "id": "179e4e39",
   "metadata": {},
   "outputs": [
    {
     "data": {
      "text/plain": [
       "matrix([[0., 1., 0., 0., 0., 0., 0., 0., 0.],\n",
       "        [0., 1., 0., 0., 0., 0., 0., 0., 0.],\n",
       "        [0., 1., 0., 0., 0., 0., 0., 0., 0.],\n",
       "        [1., 0., 0., 0., 0., 0., 0., 0., 0.],\n",
       "        [0., 1., 0., 0., 0., 0., 0., 0., 0.],\n",
       "        [0., 1., 0., 0., 0., 0., 0., 0., 0.],\n",
       "        [1., 0., 0., 0., 0., 0., 0., 0., 0.],\n",
       "        [0., 1., 0., 0., 0., 0., 0., 0., 0.],\n",
       "        [1., 0., 0., 0., 0., 0., 0., 0., 0.],\n",
       "        [1., 0., 0., 0., 0., 0., 0., 0., 0.]])"
      ]
     },
     "execution_count": 8,
     "metadata": {},
     "output_type": "execute_result"
    }
   ],
   "source": [
    "category_encoded.todense()[0:10]"
   ]
  },
  {
   "cell_type": "markdown",
   "id": "15de0869",
   "metadata": {},
   "source": [
    "### Библиотека pandas (get_dummies)"
   ]
  },
  {
   "cell_type": "code",
   "execution_count": 9,
   "id": "92d74dde",
   "metadata": {},
   "outputs": [
    {
     "data": {
      "text/html": [
       "<div>\n",
       "<style scoped>\n",
       "    .dataframe tbody tr th:only-of-type {\n",
       "        vertical-align: middle;\n",
       "    }\n",
       "\n",
       "    .dataframe tbody tr th {\n",
       "        vertical-align: top;\n",
       "    }\n",
       "\n",
       "    .dataframe thead th {\n",
       "        text-align: right;\n",
       "    }\n",
       "</style>\n",
       "<table border=\"1\" class=\"dataframe\">\n",
       "  <thead>\n",
       "    <tr style=\"text-align: right;\">\n",
       "      <th></th>\n",
       "      <th>category_Binnenland</th>\n",
       "      <th>category_Buitenland</th>\n",
       "      <th>category_Cultuur &amp; Media</th>\n",
       "      <th>category_Economie</th>\n",
       "      <th>category_Koningshuis</th>\n",
       "      <th>category_Opmerkelijk</th>\n",
       "      <th>category_Politiek</th>\n",
       "      <th>category_Regionaal nieuws</th>\n",
       "      <th>category_Tech</th>\n",
       "    </tr>\n",
       "  </thead>\n",
       "  <tbody>\n",
       "    <tr>\n",
       "      <th>0</th>\n",
       "      <td>0</td>\n",
       "      <td>1</td>\n",
       "      <td>0</td>\n",
       "      <td>0</td>\n",
       "      <td>0</td>\n",
       "      <td>0</td>\n",
       "      <td>0</td>\n",
       "      <td>0</td>\n",
       "      <td>0</td>\n",
       "    </tr>\n",
       "    <tr>\n",
       "      <th>1</th>\n",
       "      <td>0</td>\n",
       "      <td>1</td>\n",
       "      <td>0</td>\n",
       "      <td>0</td>\n",
       "      <td>0</td>\n",
       "      <td>0</td>\n",
       "      <td>0</td>\n",
       "      <td>0</td>\n",
       "      <td>0</td>\n",
       "    </tr>\n",
       "    <tr>\n",
       "      <th>2</th>\n",
       "      <td>0</td>\n",
       "      <td>1</td>\n",
       "      <td>0</td>\n",
       "      <td>0</td>\n",
       "      <td>0</td>\n",
       "      <td>0</td>\n",
       "      <td>0</td>\n",
       "      <td>0</td>\n",
       "      <td>0</td>\n",
       "    </tr>\n",
       "    <tr>\n",
       "      <th>3</th>\n",
       "      <td>1</td>\n",
       "      <td>0</td>\n",
       "      <td>0</td>\n",
       "      <td>0</td>\n",
       "      <td>0</td>\n",
       "      <td>0</td>\n",
       "      <td>0</td>\n",
       "      <td>0</td>\n",
       "      <td>0</td>\n",
       "    </tr>\n",
       "    <tr>\n",
       "      <th>4</th>\n",
       "      <td>0</td>\n",
       "      <td>1</td>\n",
       "      <td>0</td>\n",
       "      <td>0</td>\n",
       "      <td>0</td>\n",
       "      <td>0</td>\n",
       "      <td>0</td>\n",
       "      <td>0</td>\n",
       "      <td>0</td>\n",
       "    </tr>\n",
       "  </tbody>\n",
       "</table>\n",
       "</div>"
      ],
      "text/plain": [
       "   category_Binnenland  category_Buitenland  category_Cultuur & Media  \\\n",
       "0                    0                    1                         0   \n",
       "1                    0                    1                         0   \n",
       "2                    0                    1                         0   \n",
       "3                    1                    0                         0   \n",
       "4                    0                    1                         0   \n",
       "\n",
       "   category_Economie  category_Koningshuis  category_Opmerkelijk  \\\n",
       "0                  0                     0                     0   \n",
       "1                  0                     0                     0   \n",
       "2                  0                     0                     0   \n",
       "3                  0                     0                     0   \n",
       "4                  0                     0                     0   \n",
       "\n",
       "   category_Politiek  category_Regionaal nieuws  category_Tech  \n",
       "0                  0                          0              0  \n",
       "1                  0                          0              0  \n",
       "2                  0                          0              0  \n",
       "3                  0                          0              0  \n",
       "4                  0                          0              0  "
      ]
     },
     "execution_count": 9,
     "metadata": {},
     "output_type": "execute_result"
    }
   ],
   "source": [
    "#using pandas get dummies\n",
    "pd.get_dummies(data_categorize[['category']]).head()"
   ]
  },
  {
   "cell_type": "markdown",
   "id": "96b2fa6e",
   "metadata": {},
   "source": [
    "### Библиотека Category_Encoders"
   ]
  },
  {
   "cell_type": "code",
   "execution_count": 10,
   "id": "55d0a899",
   "metadata": {},
   "outputs": [
    {
     "data": {
      "text/html": [
       "<div>\n",
       "<style scoped>\n",
       "    .dataframe tbody tr th:only-of-type {\n",
       "        vertical-align: middle;\n",
       "    }\n",
       "\n",
       "    .dataframe tbody tr th {\n",
       "        vertical-align: top;\n",
       "    }\n",
       "\n",
       "    .dataframe thead th {\n",
       "        text-align: right;\n",
       "    }\n",
       "</style>\n",
       "<table border=\"1\" class=\"dataframe\">\n",
       "  <thead>\n",
       "    <tr style=\"text-align: right;\">\n",
       "      <th></th>\n",
       "      <th>category_1</th>\n",
       "      <th>category_2</th>\n",
       "      <th>category_3</th>\n",
       "      <th>category_4</th>\n",
       "      <th>category_5</th>\n",
       "      <th>category_6</th>\n",
       "      <th>category_7</th>\n",
       "      <th>category_8</th>\n",
       "      <th>category_9</th>\n",
       "    </tr>\n",
       "  </thead>\n",
       "  <tbody>\n",
       "    <tr>\n",
       "      <th>0</th>\n",
       "      <td>1</td>\n",
       "      <td>0</td>\n",
       "      <td>0</td>\n",
       "      <td>0</td>\n",
       "      <td>0</td>\n",
       "      <td>0</td>\n",
       "      <td>0</td>\n",
       "      <td>0</td>\n",
       "      <td>0</td>\n",
       "    </tr>\n",
       "    <tr>\n",
       "      <th>1</th>\n",
       "      <td>1</td>\n",
       "      <td>0</td>\n",
       "      <td>0</td>\n",
       "      <td>0</td>\n",
       "      <td>0</td>\n",
       "      <td>0</td>\n",
       "      <td>0</td>\n",
       "      <td>0</td>\n",
       "      <td>0</td>\n",
       "    </tr>\n",
       "    <tr>\n",
       "      <th>2</th>\n",
       "      <td>1</td>\n",
       "      <td>0</td>\n",
       "      <td>0</td>\n",
       "      <td>0</td>\n",
       "      <td>0</td>\n",
       "      <td>0</td>\n",
       "      <td>0</td>\n",
       "      <td>0</td>\n",
       "      <td>0</td>\n",
       "    </tr>\n",
       "    <tr>\n",
       "      <th>3</th>\n",
       "      <td>0</td>\n",
       "      <td>1</td>\n",
       "      <td>0</td>\n",
       "      <td>0</td>\n",
       "      <td>0</td>\n",
       "      <td>0</td>\n",
       "      <td>0</td>\n",
       "      <td>0</td>\n",
       "      <td>0</td>\n",
       "    </tr>\n",
       "    <tr>\n",
       "      <th>4</th>\n",
       "      <td>1</td>\n",
       "      <td>0</td>\n",
       "      <td>0</td>\n",
       "      <td>0</td>\n",
       "      <td>0</td>\n",
       "      <td>0</td>\n",
       "      <td>0</td>\n",
       "      <td>0</td>\n",
       "      <td>0</td>\n",
       "    </tr>\n",
       "    <tr>\n",
       "      <th>...</th>\n",
       "      <td>...</td>\n",
       "      <td>...</td>\n",
       "      <td>...</td>\n",
       "      <td>...</td>\n",
       "      <td>...</td>\n",
       "      <td>...</td>\n",
       "      <td>...</td>\n",
       "      <td>...</td>\n",
       "      <td>...</td>\n",
       "    </tr>\n",
       "    <tr>\n",
       "      <th>238094</th>\n",
       "      <td>1</td>\n",
       "      <td>0</td>\n",
       "      <td>0</td>\n",
       "      <td>0</td>\n",
       "      <td>0</td>\n",
       "      <td>0</td>\n",
       "      <td>0</td>\n",
       "      <td>0</td>\n",
       "      <td>0</td>\n",
       "    </tr>\n",
       "    <tr>\n",
       "      <th>238095</th>\n",
       "      <td>0</td>\n",
       "      <td>1</td>\n",
       "      <td>0</td>\n",
       "      <td>0</td>\n",
       "      <td>0</td>\n",
       "      <td>0</td>\n",
       "      <td>0</td>\n",
       "      <td>0</td>\n",
       "      <td>0</td>\n",
       "    </tr>\n",
       "    <tr>\n",
       "      <th>238096</th>\n",
       "      <td>0</td>\n",
       "      <td>1</td>\n",
       "      <td>0</td>\n",
       "      <td>0</td>\n",
       "      <td>0</td>\n",
       "      <td>0</td>\n",
       "      <td>0</td>\n",
       "      <td>0</td>\n",
       "      <td>0</td>\n",
       "    </tr>\n",
       "    <tr>\n",
       "      <th>238097</th>\n",
       "      <td>1</td>\n",
       "      <td>0</td>\n",
       "      <td>0</td>\n",
       "      <td>0</td>\n",
       "      <td>0</td>\n",
       "      <td>0</td>\n",
       "      <td>0</td>\n",
       "      <td>0</td>\n",
       "      <td>0</td>\n",
       "    </tr>\n",
       "    <tr>\n",
       "      <th>238098</th>\n",
       "      <td>1</td>\n",
       "      <td>0</td>\n",
       "      <td>0</td>\n",
       "      <td>0</td>\n",
       "      <td>0</td>\n",
       "      <td>0</td>\n",
       "      <td>0</td>\n",
       "      <td>0</td>\n",
       "      <td>0</td>\n",
       "    </tr>\n",
       "  </tbody>\n",
       "</table>\n",
       "<p>238099 rows × 9 columns</p>\n",
       "</div>"
      ],
      "text/plain": [
       "        category_1  category_2  category_3  category_4  category_5  \\\n",
       "0                1           0           0           0           0   \n",
       "1                1           0           0           0           0   \n",
       "2                1           0           0           0           0   \n",
       "3                0           1           0           0           0   \n",
       "4                1           0           0           0           0   \n",
       "...            ...         ...         ...         ...         ...   \n",
       "238094           1           0           0           0           0   \n",
       "238095           0           1           0           0           0   \n",
       "238096           0           1           0           0           0   \n",
       "238097           1           0           0           0           0   \n",
       "238098           1           0           0           0           0   \n",
       "\n",
       "        category_6  category_7  category_8  category_9  \n",
       "0                0           0           0           0  \n",
       "1                0           0           0           0  \n",
       "2                0           0           0           0  \n",
       "3                0           0           0           0  \n",
       "4                0           0           0           0  \n",
       "...            ...         ...         ...         ...  \n",
       "238094           0           0           0           0  \n",
       "238095           0           0           0           0  \n",
       "238096           0           0           0           0  \n",
       "238097           0           0           0           0  \n",
       "238098           0           0           0           0  \n",
       "\n",
       "[238099 rows x 9 columns]"
      ]
     },
     "execution_count": 10,
     "metadata": {},
     "output_type": "execute_result"
    }
   ],
   "source": [
    "#датасет объёмный и на всю его обработку не хватает памяти, поэтому возмём из него только часть строк\n",
    "#data_part = data_categorize.iloc[560:1560, :]\n",
    "ce_OneHotEncoder1 = ce_OneHotEncoder()\n",
    "#category_ohe = ce_OneHotEncoder1.fit_transform(data_part[data_part.columns.difference(['title'])])\n",
    "#поскольку datetime и title не числовые значения, исключаем их из категоризации, иначе они тоже one-hot категоризуются \n",
    "#и происходит нехватка памяти. Оставляем только ту колонку, которая нас интересует. \n",
    "\n",
    "category_ohe = ce_OneHotEncoder1.fit_transform(data_categorize[data_categorize.columns.difference(['datetime','title'])])\n",
    "category_ohe"
   ]
  },
  {
   "cell_type": "markdown",
   "id": "fdaeee08",
   "metadata": {},
   "source": [
    "## Задача 2(25). Для набора данных для одного (произвольного) числового признака проведите обнаружение и удаление выбросов на основе межквартильного размаха."
   ]
  },
  {
   "cell_type": "markdown",
   "id": "3b828b7c",
   "metadata": {},
   "source": [
    "Для второй задачи используем датасет, содержащий информацию о ценах на жильё в Тунисе."
   ]
  },
  {
   "cell_type": "code",
   "execution_count": 11,
   "id": "4a064b85",
   "metadata": {},
   "outputs": [],
   "source": [
    "data_out=pd.read_csv('datasets/prices.csv', sep=\",\")"
   ]
  },
  {
   "cell_type": "code",
   "execution_count": 12,
   "id": "a5fb4310",
   "metadata": {},
   "outputs": [
    {
     "data": {
      "text/plain": [
       "(12748, 9)"
      ]
     },
     "execution_count": 12,
     "metadata": {},
     "output_type": "execute_result"
    }
   ],
   "source": [
    "data_out.shape"
   ]
  },
  {
   "cell_type": "code",
   "execution_count": 13,
   "id": "a33ad706",
   "metadata": {},
   "outputs": [
    {
     "data": {
      "text/html": [
       "<div>\n",
       "<style scoped>\n",
       "    .dataframe tbody tr th:only-of-type {\n",
       "        vertical-align: middle;\n",
       "    }\n",
       "\n",
       "    .dataframe tbody tr th {\n",
       "        vertical-align: top;\n",
       "    }\n",
       "\n",
       "    .dataframe thead th {\n",
       "        text-align: right;\n",
       "    }\n",
       "</style>\n",
       "<table border=\"1\" class=\"dataframe\">\n",
       "  <thead>\n",
       "    <tr style=\"text-align: right;\">\n",
       "      <th></th>\n",
       "      <th>category</th>\n",
       "      <th>room_count</th>\n",
       "      <th>bathroom_count</th>\n",
       "      <th>size</th>\n",
       "      <th>type</th>\n",
       "      <th>price</th>\n",
       "      <th>city</th>\n",
       "      <th>region</th>\n",
       "      <th>log_price</th>\n",
       "    </tr>\n",
       "  </thead>\n",
       "  <tbody>\n",
       "    <tr>\n",
       "      <th>0</th>\n",
       "      <td>Terrains et Fermes</td>\n",
       "      <td>-1.0</td>\n",
       "      <td>-1.0</td>\n",
       "      <td>-1.0</td>\n",
       "      <td>À Vendre</td>\n",
       "      <td>100000.0</td>\n",
       "      <td>Ariana</td>\n",
       "      <td>Raoued</td>\n",
       "      <td>5.000000</td>\n",
       "    </tr>\n",
       "    <tr>\n",
       "      <th>1</th>\n",
       "      <td>Terrains et Fermes</td>\n",
       "      <td>-1.0</td>\n",
       "      <td>-1.0</td>\n",
       "      <td>-1.0</td>\n",
       "      <td>À Vendre</td>\n",
       "      <td>316000.0</td>\n",
       "      <td>Ariana</td>\n",
       "      <td>Autres villes</td>\n",
       "      <td>5.499687</td>\n",
       "    </tr>\n",
       "    <tr>\n",
       "      <th>2</th>\n",
       "      <td>Appartements</td>\n",
       "      <td>2.0</td>\n",
       "      <td>1.0</td>\n",
       "      <td>80.0</td>\n",
       "      <td>À Louer</td>\n",
       "      <td>380.0</td>\n",
       "      <td>Ariana</td>\n",
       "      <td>Autres villes</td>\n",
       "      <td>2.579784</td>\n",
       "    </tr>\n",
       "    <tr>\n",
       "      <th>3</th>\n",
       "      <td>Locations de vacances</td>\n",
       "      <td>1.0</td>\n",
       "      <td>1.0</td>\n",
       "      <td>90.0</td>\n",
       "      <td>À Louer</td>\n",
       "      <td>70.0</td>\n",
       "      <td>Ariana</td>\n",
       "      <td>Autres villes</td>\n",
       "      <td>1.845098</td>\n",
       "    </tr>\n",
       "    <tr>\n",
       "      <th>4</th>\n",
       "      <td>Appartements</td>\n",
       "      <td>2.0</td>\n",
       "      <td>2.0</td>\n",
       "      <td>113.0</td>\n",
       "      <td>À Vendre</td>\n",
       "      <td>170000.0</td>\n",
       "      <td>Ariana</td>\n",
       "      <td>Ariana Ville</td>\n",
       "      <td>5.230449</td>\n",
       "    </tr>\n",
       "  </tbody>\n",
       "</table>\n",
       "</div>"
      ],
      "text/plain": [
       "                category  room_count  bathroom_count   size      type  \\\n",
       "0     Terrains et Fermes        -1.0            -1.0   -1.0  À Vendre   \n",
       "1     Terrains et Fermes        -1.0            -1.0   -1.0  À Vendre   \n",
       "2           Appartements         2.0             1.0   80.0   À Louer   \n",
       "3  Locations de vacances         1.0             1.0   90.0   À Louer   \n",
       "4           Appartements         2.0             2.0  113.0  À Vendre   \n",
       "\n",
       "      price    city         region  log_price  \n",
       "0  100000.0  Ariana         Raoued   5.000000  \n",
       "1  316000.0  Ariana  Autres villes   5.499687  \n",
       "2     380.0  Ariana  Autres villes   2.579784  \n",
       "3      70.0  Ariana  Autres villes   1.845098  \n",
       "4  170000.0  Ariana   Ariana Ville   5.230449  "
      ]
     },
     "execution_count": 13,
     "metadata": {},
     "output_type": "execute_result"
    }
   ],
   "source": [
    "data_out.head() #просмотрим, какие данные о продажах в Тунисе содержатся в данном датасете"
   ]
  },
  {
   "cell_type": "code",
   "execution_count": 14,
   "id": "4ac63e32",
   "metadata": {},
   "outputs": [
    {
     "data": {
      "text/plain": [
       "[('category', ('object', 0)),\n",
       " ('room_count', ('float64', 0)),\n",
       " ('bathroom_count', ('float64', 0)),\n",
       " ('size', ('float64', 0)),\n",
       " ('type', ('object', 0)),\n",
       " ('price', ('float64', 0)),\n",
       " ('city', ('object', 0)),\n",
       " ('region', ('object', 0)),\n",
       " ('log_price', ('float64', 0))]"
      ]
     },
     "execution_count": 14,
     "metadata": {},
     "output_type": "execute_result"
    }
   ],
   "source": [
    "data_feat = list(zip(\n",
    "# признаки\n",
    "[i for i in data_out.columns],\n",
    "zip(\n",
    "    # типы колонок\n",
    "    [str(i) for i in data_out.dtypes],\n",
    "    # проверим есть ли пропущенные значения\n",
    "    [i for i in data_out.isnull().sum()]\n",
    ")))\n",
    "# Признаки с типом данных и количеством пропусков\n",
    "data_feat\n",
    "#отследим пропуски в данных, если они имеются. В данном случае их в датасете нет."
   ]
  },
  {
   "cell_type": "code",
   "execution_count": 15,
   "id": "eef0ffc6",
   "metadata": {},
   "outputs": [],
   "source": [
    "def diagnostic_plots(df, variable, title):\n",
    "    fig, ax = plt.subplots(figsize=(10,7))\n",
    "    # гистограмма\n",
    "    plt.subplot(2, 2, 1)\n",
    "    df[variable].hist(bins=30)\n",
    "    ## Q-Q plot\n",
    "    plt.subplot(2, 2, 2)\n",
    "    stats.probplot(df[variable], dist=\"norm\", plot=plt)\n",
    "    # скрипичная диаграмма\n",
    "    plt.subplot(2, 2, 3)\n",
    "    sns.violinplot(x=df[variable])    \n",
    "    # ящик с усами\n",
    "    plt.subplot(2, 2, 4)\n",
    "    sns.boxplot(x=df[variable])  \n",
    "    fig.suptitle(title)\n",
    "    plt.show()"
   ]
  },
  {
   "cell_type": "markdown",
   "id": "f10b4fba",
   "metadata": {},
   "source": [
    "Изучим наш датасет на предмет выбросов."
   ]
  },
  {
   "cell_type": "code",
   "execution_count": 16,
   "id": "45880c76",
   "metadata": {},
   "outputs": [
    {
     "data": {
      "image/png": "[encoded data removed]",
      "text/plain": [
       "<Figure size 720x504 with 4 Axes>"
      ]
     },
     "metadata": {
      "needs_background": "light"
     },
     "output_type": "display_data"
    }
   ],
   "source": [
    "diagnostic_plots(data_out, 'price', 'Price info')"
   ]
  },
  {
   "cell_type": "code",
   "execution_count": 17,
   "id": "1c533252",
   "metadata": {},
   "outputs": [
    {
     "data": {
      "image/png": "[encoded data removed]",
      "text/plain": [
       "<Figure size 720x504 with 4 Axes>"
      ]
     },
     "metadata": {
      "needs_background": "light"
     },
     "output_type": "display_data"
    }
   ],
   "source": [
    "diagnostic_plots(data_out, 'log_price', 'Log price info')"
   ]
  },
  {
   "cell_type": "markdown",
   "id": "aba3525d",
   "metadata": {},
   "source": [
    "Судя по графикам распределение ассиметричное и в данном датасете обнаружилось небольшое количество выбросов для логарифма от цены - обнаружим и удалим их на основе метода межквартильного размаха."
   ]
  },
  {
   "cell_type": "code",
   "execution_count": 18,
   "id": "d53ed7ee",
   "metadata": {},
   "outputs": [],
   "source": [
    "#создадим функцию обнаружения выбросов только для метода межквартильного размаха\n",
    "def get_outlier_boundaries(df, col):\n",
    "    K2 = 1.5\n",
    "    IQR = df[col].quantile(0.75) - df[col].quantile(0.25)\n",
    "    lower_boundary = df[col].quantile(0.25) - (K2 * IQR)\n",
    "    upper_boundary = df[col].quantile(0.75) + (K2 * IQR)\n",
    "    return lower_boundary, upper_boundary "
   ]
  },
  {
   "cell_type": "code",
   "execution_count": 19,
   "id": "7e352f2d",
   "metadata": {},
   "outputs": [
    {
     "data": {
      "image/png": "[encoded data removed]",
      "text/plain": [
       "<Figure size 720x504 with 4 Axes>"
      ]
     },
     "metadata": {
      "needs_background": "light"
     },
     "output_type": "display_data"
    }
   ],
   "source": [
    "obt = 'Межквартильный размах'\n",
    "col = 'log_price'\n",
    "# Вычисление верхней и нижней границы\n",
    "lower_boundary, upper_boundary = get_outlier_boundaries(data_out, col)\n",
    "# Флаги для удаления выбросов\n",
    "outliers_temp = np.where(data_out[col] > upper_boundary, True, \n",
    "                            np.where(data_out[col] < lower_boundary, True, False))\n",
    "# Удаление данных на основе флага\n",
    "data_trimmed = data_out.loc[~(outliers_temp), ]  \n",
    "title = 'Поле - {}\\n Метод - {}\\n Строк - {}'.format(col, obt, data_trimmed.shape[0])\n",
    "diagnostic_plots(data_trimmed, col, title)"
   ]
  },
  {
   "cell_type": "markdown",
   "id": "fb44d7a0",
   "metadata": {},
   "source": [
    "Как видно из графиков -- имевшиеся выбросы были успешны удалены."
   ]
  },
  {
   "cell_type": "markdown",
   "id": "09ee5deb",
   "metadata": {},
   "source": [
    "## Построение графика \"ящик с усами\" "
   ]
  },
  {
   "cell_type": "code",
   "execution_count": 20,
   "id": "a9ec01fc",
   "metadata": {},
   "outputs": [
    {
     "data": {
      "image/png": "[encoded data removed]",
      "text/plain": [
       "<Figure size 576x288 with 1 Axes>"
      ]
     },
     "metadata": {
      "needs_background": "light"
     },
     "output_type": "display_data"
    }
   ],
   "source": [
    "fig, ax = plt.subplots(figsize=(8,4))\n",
    "sns.boxplot(x=data_out['size'])  \n",
    "fig.suptitle('Размеры')\n",
    "plt.show()"
   ]
  }
 ],
 "metadata": {
  "kernelspec": {
   "display_name": "Python 3 (ipykernel)",
   "language": "python",
   "name": "python3"
  },
  "language_info": {
   "codemirror_mode": {
    "name": "ipython",
    "version": 3
   },
   "file_extension": ".py",
   "mimetype": "text/x-python",
   "name": "python",
   "nbconvert_exporter": "python",
   "pygments_lexer": "ipython3",
   "version": "3.10.0"
  }
 },
 "nbformat": 4,
 "nbformat_minor": 5
}
