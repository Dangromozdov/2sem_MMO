{
 "cells": [
  {
   "cell_type": "markdown",
   "id": "32b6dce1",
   "metadata": {},
   "source": [
    "# Рубежный контроль по дисциплине \"Методы машинного обучения\" №2.\n",
    "## Выполнил: Громоздов Д.Р.; группа ИУ5-23М"
   ]
  },
  {
   "cell_type": "code",
   "execution_count": 3,
   "id": "e65a5bc5",
   "metadata": {},
   "outputs": [],
   "source": [
    "import pandas as pd\n",
    "from sklearn.feature_extraction.text import CountVectorizer, TfidfVectorizer\n",
    "from sklearn.svm import LinearSVC\n",
    "from sklearn.naive_bayes import MultinomialNB\n",
    "from sklearn.model_selection import cross_val_score"
   ]
  },
  {
   "cell_type": "markdown",
   "id": "3feceb18",
   "metadata": {},
   "source": [
    "Возьмём датасет, содержащий классификацию сообщений на спам (spam) и важные сообщения (ham):"
   ]
  },
  {
   "cell_type": "code",
   "execution_count": 4,
   "id": "247cabe1",
   "metadata": {},
   "outputs": [],
   "source": [
    "data = pd.read_csv('datasets/spam_classifier.csv', sep=\",\")"
   ]
  },
  {
   "cell_type": "code",
   "execution_count": 5,
   "id": "0987c3bf",
   "metadata": {},
   "outputs": [
    {
     "data": {
      "text/plain": [
       "(5572, 2)"
      ]
     },
     "execution_count": 5,
     "metadata": {},
     "output_type": "execute_result"
    }
   ],
   "source": [
    "data.shape"
   ]
  },
  {
   "cell_type": "code",
   "execution_count": 6,
   "id": "831ba77f",
   "metadata": {},
   "outputs": [
    {
     "data": {
      "text/html": [
       "<div>\n",
       "<style scoped>\n",
       "    .dataframe tbody tr th:only-of-type {\n",
       "        vertical-align: middle;\n",
       "    }\n",
       "\n",
       "    .dataframe tbody tr th {\n",
       "        vertical-align: top;\n",
       "    }\n",
       "\n",
       "    .dataframe thead th {\n",
       "        text-align: right;\n",
       "    }\n",
       "</style>\n",
       "<table border=\"1\" class=\"dataframe\">\n",
       "  <thead>\n",
       "    <tr style=\"text-align: right;\">\n",
       "      <th></th>\n",
       "      <th>Category</th>\n",
       "      <th>Message</th>\n",
       "    </tr>\n",
       "  </thead>\n",
       "  <tbody>\n",
       "    <tr>\n",
       "      <th>0</th>\n",
       "      <td>ham</td>\n",
       "      <td>Go until jurong point, crazy.. Available only ...</td>\n",
       "    </tr>\n",
       "    <tr>\n",
       "      <th>1</th>\n",
       "      <td>ham</td>\n",
       "      <td>Ok lar... Joking wif u oni...</td>\n",
       "    </tr>\n",
       "    <tr>\n",
       "      <th>2</th>\n",
       "      <td>spam</td>\n",
       "      <td>Free entry in 2 a wkly comp to win FA Cup fina...</td>\n",
       "    </tr>\n",
       "    <tr>\n",
       "      <th>3</th>\n",
       "      <td>ham</td>\n",
       "      <td>U dun say so early hor... U c already then say...</td>\n",
       "    </tr>\n",
       "    <tr>\n",
       "      <th>4</th>\n",
       "      <td>ham</td>\n",
       "      <td>Nah I don't think he goes to usf, he lives aro...</td>\n",
       "    </tr>\n",
       "  </tbody>\n",
       "</table>\n",
       "</div>"
      ],
      "text/plain": [
       "  Category                                            Message\n",
       "0      ham  Go until jurong point, crazy.. Available only ...\n",
       "1      ham                      Ok lar... Joking wif u oni...\n",
       "2     spam  Free entry in 2 a wkly comp to win FA Cup fina...\n",
       "3      ham  U dun say so early hor... U c already then say...\n",
       "4      ham  Nah I don't think he goes to usf, he lives aro..."
      ]
     },
     "execution_count": 6,
     "metadata": {},
     "output_type": "execute_result"
    }
   ],
   "source": [
    "data.head()"
   ]
  },
  {
   "cell_type": "markdown",
   "id": "f7236bf2",
   "metadata": {},
   "source": [
    "Убедимся, что в используемых нами данных не будет пропусков, удалив их с помощью dropna(). Пропусков во взятом для рубежного контроля наборе данных не оказалось: "
   ]
  },
  {
   "cell_type": "code",
   "execution_count": 7,
   "id": "0dc02645",
   "metadata": {},
   "outputs": [
    {
     "data": {
      "text/html": [
       "<div>\n",
       "<style scoped>\n",
       "    .dataframe tbody tr th:only-of-type {\n",
       "        vertical-align: middle;\n",
       "    }\n",
       "\n",
       "    .dataframe tbody tr th {\n",
       "        vertical-align: top;\n",
       "    }\n",
       "\n",
       "    .dataframe thead th {\n",
       "        text-align: right;\n",
       "    }\n",
       "</style>\n",
       "<table border=\"1\" class=\"dataframe\">\n",
       "  <thead>\n",
       "    <tr style=\"text-align: right;\">\n",
       "      <th></th>\n",
       "      <th>Category</th>\n",
       "      <th>Message</th>\n",
       "    </tr>\n",
       "  </thead>\n",
       "  <tbody>\n",
       "    <tr>\n",
       "      <th>0</th>\n",
       "      <td>ham</td>\n",
       "      <td>Go until jurong point, crazy.. Available only ...</td>\n",
       "    </tr>\n",
       "    <tr>\n",
       "      <th>1</th>\n",
       "      <td>ham</td>\n",
       "      <td>Ok lar... Joking wif u oni...</td>\n",
       "    </tr>\n",
       "    <tr>\n",
       "      <th>2</th>\n",
       "      <td>spam</td>\n",
       "      <td>Free entry in 2 a wkly comp to win FA Cup fina...</td>\n",
       "    </tr>\n",
       "    <tr>\n",
       "      <th>3</th>\n",
       "      <td>ham</td>\n",
       "      <td>U dun say so early hor... U c already then say...</td>\n",
       "    </tr>\n",
       "    <tr>\n",
       "      <th>4</th>\n",
       "      <td>ham</td>\n",
       "      <td>Nah I don't think he goes to usf, he lives aro...</td>\n",
       "    </tr>\n",
       "    <tr>\n",
       "      <th>...</th>\n",
       "      <td>...</td>\n",
       "      <td>...</td>\n",
       "    </tr>\n",
       "    <tr>\n",
       "      <th>5567</th>\n",
       "      <td>spam</td>\n",
       "      <td>This is the 2nd time we have tried 2 contact u...</td>\n",
       "    </tr>\n",
       "    <tr>\n",
       "      <th>5568</th>\n",
       "      <td>ham</td>\n",
       "      <td>Will ü b going to esplanade fr home?</td>\n",
       "    </tr>\n",
       "    <tr>\n",
       "      <th>5569</th>\n",
       "      <td>ham</td>\n",
       "      <td>Pity, * was in mood for that. So...any other s...</td>\n",
       "    </tr>\n",
       "    <tr>\n",
       "      <th>5570</th>\n",
       "      <td>ham</td>\n",
       "      <td>The guy did some bitching but I acted like i'd...</td>\n",
       "    </tr>\n",
       "    <tr>\n",
       "      <th>5571</th>\n",
       "      <td>ham</td>\n",
       "      <td>Rofl. Its true to its name</td>\n",
       "    </tr>\n",
       "  </tbody>\n",
       "</table>\n",
       "<p>5572 rows × 2 columns</p>\n",
       "</div>"
      ],
      "text/plain": [
       "     Category                                            Message\n",
       "0         ham  Go until jurong point, crazy.. Available only ...\n",
       "1         ham                      Ok lar... Joking wif u oni...\n",
       "2        spam  Free entry in 2 a wkly comp to win FA Cup fina...\n",
       "3         ham  U dun say so early hor... U c already then say...\n",
       "4         ham  Nah I don't think he goes to usf, he lives aro...\n",
       "...       ...                                                ...\n",
       "5567     spam  This is the 2nd time we have tried 2 contact u...\n",
       "5568      ham               Will ü b going to esplanade fr home?\n",
       "5569      ham  Pity, * was in mood for that. So...any other s...\n",
       "5570      ham  The guy did some bitching but I acted like i'd...\n",
       "5571      ham                         Rofl. Its true to its name\n",
       "\n",
       "[5572 rows x 2 columns]"
      ]
     },
     "execution_count": 7,
     "metadata": {},
     "output_type": "execute_result"
    }
   ],
   "source": [
    "data.dropna()"
   ]
  },
  {
   "cell_type": "markdown",
   "id": "b4562d6c",
   "metadata": {},
   "source": [
    "Зададим переменную, содержащую значения классов: "
   ]
  },
  {
   "cell_type": "code",
   "execution_count": 10,
   "id": "b0db4839",
   "metadata": {},
   "outputs": [
    {
     "data": {
      "text/plain": [
       "array(['ham', 'ham', 'spam', ..., 'ham', 'ham', 'ham'], dtype=object)"
      ]
     },
     "execution_count": 10,
     "metadata": {},
     "output_type": "execute_result"
    }
   ],
   "source": [
    "target = data[\"Category\"].values\n",
    "target"
   ]
  },
  {
   "cell_type": "markdown",
   "id": "cab7c6af",
   "metadata": {},
   "source": [
    "Создадим векторизацию текста сообщений на основе модели CountVectoriser:"
   ]
  },
  {
   "cell_type": "code",
   "execution_count": 9,
   "id": "fa795af0",
   "metadata": {},
   "outputs": [
    {
     "data": {
      "text/plain": [
       "<5572x8709 sparse matrix of type '<class 'numpy.int64'>'\n",
       "\twith 74098 stored elements in Compressed Sparse Row format>"
      ]
     },
     "execution_count": 9,
     "metadata": {},
     "output_type": "execute_result"
    }
   ],
   "source": [
    "countv = CountVectorizer()\n",
    "countv_features = countv.fit_transform(data[\"Message\"])\n",
    "countv_features"
   ]
  },
  {
   "cell_type": "markdown",
   "id": "8428a486",
   "metadata": {},
   "source": [
    "Посмотрим, какие резултаты нам дают модели анализа характера (спам/не спам) текста при этом типе векторизации: "
   ]
  },
  {
   "cell_type": "code",
   "execution_count": 26,
   "id": "d920e1db",
   "metadata": {},
   "outputs": [
    {
     "name": "stdout",
     "output_type": "stream",
     "text": [
      "Модель векторизации - Countvectorizer, \n",
      "Модель классификации - LinearSVC, \n",
      "Значение accuracy = 0.9834887108563705\n"
     ]
    }
   ],
   "source": [
    "score_count_svc = cross_val_score(LinearSVC(), countv_features, target, scoring='accuracy', cv=3).mean()\n",
    "\n",
    "print('Модель векторизации - Countvectorizer, \\nМодель классификации - LinearSVC, \\nЗначение accuracy = {}'.format(score_count_svc))"
   ]
  },
  {
   "cell_type": "code",
   "execution_count": 28,
   "id": "b6b7d3fe",
   "metadata": {},
   "outputs": [
    {
     "name": "stdout",
     "output_type": "stream",
     "text": [
      "Модель векторизации - Countvectorizer, \n",
      "Модель классификации - MultinomialNB, \n",
      "Значение accuracy = 0.9793604779788613\n"
     ]
    }
   ],
   "source": [
    "score_count_mnb = cross_val_score(MultinomialNB(), countv_features, target, scoring='accuracy', cv=3).mean()\n",
    "\n",
    "print('Модель векторизации - Countvectorizer, \\nМодель классификации - MultinomialNB, \\nЗначение accuracy = {}'.format(score_count_mnb))"
   ]
  },
  {
   "cell_type": "markdown",
   "id": "0acf9ef7",
   "metadata": {},
   "source": [
    "Создадим векторизацию текста сообщений на основе модели TfidfVectorizer:"
   ]
  },
  {
   "cell_type": "code",
   "execution_count": 32,
   "id": "ca1b529c",
   "metadata": {},
   "outputs": [
    {
     "data": {
      "text/plain": [
       "<5572x8709 sparse matrix of type '<class 'numpy.float64'>'\n",
       "\twith 74098 stored elements in Compressed Sparse Row format>"
      ]
     },
     "execution_count": 32,
     "metadata": {},
     "output_type": "execute_result"
    }
   ],
   "source": [
    "tfidfv = TfidfVectorizer()\n",
    "tfidfv_features = tfidfv.fit_transform(data[\"Message\"])\n",
    "tfidfv_features"
   ]
  },
  {
   "cell_type": "markdown",
   "id": "bfaf40b6",
   "metadata": {},
   "source": [
    "Посмотрим, какие резултаты нам дают модели анализа характера (спам/не спам) текста при данном типе векторизации: "
   ]
  },
  {
   "cell_type": "code",
   "execution_count": 33,
   "id": "423458ea",
   "metadata": {},
   "outputs": [
    {
     "name": "stdout",
     "output_type": "stream",
     "text": [
      "Модель векторизации - TfidfVectorizer, \n",
      "Модель классификации - LinearSVC, \n",
      "Значение accuracy = 0.9806172747190152\n"
     ]
    }
   ],
   "source": [
    "score_tfidf_svc = cross_val_score(LinearSVC(), tfidfv_features, target, scoring='accuracy', cv=3).mean()\n",
    "\n",
    "print('Модель векторизации - TfidfVectorizer, \\nМодель классификации - LinearSVC, \\nЗначение accuracy = {}'.format(score_tfidf_svc))"
   ]
  },
  {
   "cell_type": "code",
   "execution_count": 34,
   "id": "15ddcd55",
   "metadata": {},
   "outputs": [
    {
     "name": "stdout",
     "output_type": "stream",
     "text": [
      "Модель векторизации - TfidfVectorizer, \n",
      "Модель классификации - MultinomialNB, \n",
      "Значение accuracy = 0.9542356533014753\n"
     ]
    }
   ],
   "source": [
    "score_tfidf_mnb = cross_val_score(MultinomialNB(), tfidfv_features, target, scoring='accuracy', cv=3).mean()\n",
    "\n",
    "print('Модель векторизации - TfidfVectorizer, \\nМодель классификации - MultinomialNB, \\nЗначение accuracy = {}'.format(score_tfidf_mnb))"
   ]
  },
  {
   "cell_type": "code",
   "execution_count": 35,
   "id": "de61338f",
   "metadata": {},
   "outputs": [
    {
     "name": "stdout",
     "output_type": "stream",
     "text": [
      "Наилучшее значение accuracy = 0.9834887108563705\n"
     ]
    }
   ],
   "source": [
    "max_score = max(score_count_svc, score_count_mnb, score_tfidf_svc, score_tfidf_mnb)\n",
    "print('Наилучшее значение accuracy = {}'.format(max_score))"
   ]
  },
  {
   "cell_type": "markdown",
   "id": "b5c96ef6",
   "metadata": {},
   "source": [
    "Лучший результат на данном наборе данных показала модель классификации LinearSVC в сочетании с векторизацией CountVectorizer."
   ]
  }
 ],
 "metadata": {
  "kernelspec": {
   "display_name": "Python 3 (ipykernel)",
   "language": "python",
   "name": "python3"
  },
  "language_info": {
   "codemirror_mode": {
    "name": "ipython",
    "version": 3
   },
   "file_extension": ".py",
   "mimetype": "text/x-python",
   "name": "python",
   "nbconvert_exporter": "python",
   "pygments_lexer": "ipython3",
   "version": "3.10.0"
  }
 },
 "nbformat": 4,
 "nbformat_minor": 5
}
